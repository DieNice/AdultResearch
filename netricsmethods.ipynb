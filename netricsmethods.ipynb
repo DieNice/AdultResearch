{
 "nbformat": 4,
 "nbformat_minor": 0,
 "metadata": {
  "celltoolbar": "Slideshow",
  "kernelspec": {
   "display_name": "Python 3",
   "language": "python",
   "name": "python3"
  },
  "language_info": {
   "codemirror_mode": {
    "name": "ipython",
    "version": 3
   },
   "file_extension": ".py",
   "mimetype": "text/x-python",
   "name": "python",
   "nbconvert_exporter": "python",
   "pygments_lexer": "ipython3",
   "version": "3.6.2"
  },
  "colab": {
   "name": "1 Метрические методы.ipynb",
   "provenance": [],
   "collapsed_sections": []
  }
 },
 "cells": [
  {
   "cell_type": "markdown",
   "metadata": {
    "id": "oq3GeRTpjGSF"
   },
   "source": [
    "# Метрические методы классификации"
   ]
  },
  {
   "cell_type": "markdown",
   "metadata": {
    "id": "-MTdRn9SjGSN"
   },
   "source": [
    "## Библиотеки"
   ]
  },
  {
   "cell_type": "code",
   "metadata": {
    "id": "hn_j94qCjGSP",
    "executionInfo": {
     "status": "ok",
     "timestamp": 1604247319950,
     "user_tz": -600,
     "elapsed": 6589,
     "user": {
      "displayName": "Sergey Smagin",
      "photoUrl": "https://lh3.googleusercontent.com/a-/AOh14GgCROeKf3VhZQ6pxiXegY8H_feK83aMuD9MEbD6zA=s64",
      "userId": "01695114342686628500"
     }
    }
   },
   "source": [
    "import matplotlib.pyplot as plt\n",
    "import numpy as np\n",
    "import seaborn as sns\n",
    "import pandas as pd\n",
    "from matplotlib import gridspec\n",
    "from mlxtend.plotting import plot_decision_regions\n",
    "from sklearn.datasets import make_classification\n",
    "from sklearn.model_selection import train_test_split\n",
    "from sklearn.neighbors import KNeighborsClassifier\n",
    "from sklearn.preprocessing import LabelEncoder\n"
   ],
   "execution_count": 2,
   "outputs": []
  },
  {
   "cell_type": "markdown",
   "metadata": {
    "id": "s6P7nDDvjGSr"
   },
   "source": [
    "## Выборка данных"
   ]
  },
  {
   "cell_type": "code",
   "metadata": {
    "id": "XT0MIZhIjGSu",
    "executionInfo": {
     "status": "ok",
     "timestamp": 1604247795861,
     "user_tz": -600,
     "elapsed": 1075,
     "user": {
      "displayName": "Sergey Smagin",
      "photoUrl": "https://lh3.googleusercontent.com/a-/AOh14GgCROeKf3VhZQ6pxiXegY8H_feK83aMuD9MEbD6zA=s64",
      "userId": "01695114342686628500"
     }
    }
   },
   "source": [
    "df = pd.read_csv('adultdataset/adult.csv',',')\n",
    "df.columns=['age','workclass','fnlwgt','education','education-num','marital-status','occupation','relationship','race','sex','capital-gain','capital-loss','hours-per-week','native-country','income']\n",
    "del df['fnlwgt']\n",
    "del df['marital-status']\n",
    "del df['education-num']\n",
    "del df['occupation']\n",
    "del df['relationship']\n",
    "del df['race']\n",
    "del df['sex']\n",
    "del df['capital-gain']\n",
    "del df['capital-loss']\n",
    "del df['native-country']"
   ],
   "execution_count": 10,
   "outputs": []
  },
  {
   "cell_type": "markdown",
   "source": [
    "## Обработка данных"
   ],
   "metadata": {
    "collapsed": false,
    "pycharm": {
     "name": "#%% md\n"
    }
   }
  },
  {
   "cell_type": "code",
   "execution_count": 17,
   "outputs": [
    {
     "data": {
      "text/plain": "    age  workclass      education  hours-per-week  income\n0    50          1      Bachelors              13   <=50K\n1    38          1        HS-grad              40   <=50K\n2    53          1           11th              40   <=50K\n3    28          1      Bachelors              40   <=50K\n4    37          1        Masters              40   <=50K\n5    49          1            9th              16   <=50K\n6    52          1        HS-grad              45    >50K\n7    31          1        Masters              50    >50K\n8    42          1      Bachelors              40    >50K\n9    37          1   Some-college              80    >50K\n10   30          1      Bachelors              40    >50K\n11   23          1      Bachelors              30   <=50K\n12   32          1     Assoc-acdm              50   <=50K\n13   40          1      Assoc-voc              40    >50K\n14   34          1        7th-8th              45   <=50K\n15   25          1        HS-grad              35   <=50K\n16   32          1        HS-grad              40   <=50K\n17   38          1           11th              50   <=50K\n18   43          1        Masters              45    >50K\n19   40          1      Doctorate              60    >50K\n20   54          1        HS-grad              20   <=50K\n21   35          0            9th              40   <=50K\n22   43          1           11th              40   <=50K\n23   59          1        HS-grad              40   <=50K\n24   56          1      Bachelors              40    >50K\n25   19          1        HS-grad              40   <=50K\n26   54          1   Some-college              60    >50K\n27   39          1        HS-grad              80   <=50K\n28   49          1        HS-grad              40   <=50K\n29   23          1     Assoc-acdm              52   <=50K\n30   20          1   Some-college              44   <=50K\n31   45          1      Bachelors              40   <=50K\n32   30          0   Some-college              40   <=50K\n33   22          1   Some-college              15   <=50K\n34   48          1           11th              40   <=50K\n35   21          1   Some-college              40   <=50K\n36   19          1        HS-grad              25   <=50K\n37   31          1   Some-college              38    >50K\n38   48          1     Assoc-acdm              40   <=50K\n39   31          1            9th              43   <=50K\n40   53          1      Bachelors              40   <=50K\n41   24          1      Bachelors              50   <=50K\n42   49          1        HS-grad              40   <=50K\n43   25          1        HS-grad              35   <=50K\n44   57          0      Bachelors              40    >50K\n45   53          1        HS-grad              38   <=50K\n46   44          1        Masters              40   <=50K\n47   41          1      Assoc-voc              40   <=50K\n48   29          1      Assoc-voc              43   <=50K\n49   25          1   Some-college              40   <=50K",
      "text/html": "<div>\n<style scoped>\n    .dataframe tbody tr th:only-of-type {\n        vertical-align: middle;\n    }\n\n    .dataframe tbody tr th {\n        vertical-align: top;\n    }\n\n    .dataframe thead th {\n        text-align: right;\n    }\n</style>\n<table border=\"1\" class=\"dataframe\">\n  <thead>\n    <tr style=\"text-align: right;\">\n      <th></th>\n      <th>age</th>\n      <th>workclass</th>\n      <th>education</th>\n      <th>hours-per-week</th>\n      <th>income</th>\n    </tr>\n  </thead>\n  <tbody>\n    <tr>\n      <th>0</th>\n      <td>50</td>\n      <td>1</td>\n      <td>Bachelors</td>\n      <td>13</td>\n      <td>&lt;=50K</td>\n    </tr>\n    <tr>\n      <th>1</th>\n      <td>38</td>\n      <td>1</td>\n      <td>HS-grad</td>\n      <td>40</td>\n      <td>&lt;=50K</td>\n    </tr>\n    <tr>\n      <th>2</th>\n      <td>53</td>\n      <td>1</td>\n      <td>11th</td>\n      <td>40</td>\n      <td>&lt;=50K</td>\n    </tr>\n    <tr>\n      <th>3</th>\n      <td>28</td>\n      <td>1</td>\n      <td>Bachelors</td>\n      <td>40</td>\n      <td>&lt;=50K</td>\n    </tr>\n    <tr>\n      <th>4</th>\n      <td>37</td>\n      <td>1</td>\n      <td>Masters</td>\n      <td>40</td>\n      <td>&lt;=50K</td>\n    </tr>\n    <tr>\n      <th>5</th>\n      <td>49</td>\n      <td>1</td>\n      <td>9th</td>\n      <td>16</td>\n      <td>&lt;=50K</td>\n    </tr>\n    <tr>\n      <th>6</th>\n      <td>52</td>\n      <td>1</td>\n      <td>HS-grad</td>\n      <td>45</td>\n      <td>&gt;50K</td>\n    </tr>\n    <tr>\n      <th>7</th>\n      <td>31</td>\n      <td>1</td>\n      <td>Masters</td>\n      <td>50</td>\n      <td>&gt;50K</td>\n    </tr>\n    <tr>\n      <th>8</th>\n      <td>42</td>\n      <td>1</td>\n      <td>Bachelors</td>\n      <td>40</td>\n      <td>&gt;50K</td>\n    </tr>\n    <tr>\n      <th>9</th>\n      <td>37</td>\n      <td>1</td>\n      <td>Some-college</td>\n      <td>80</td>\n      <td>&gt;50K</td>\n    </tr>\n    <tr>\n      <th>10</th>\n      <td>30</td>\n      <td>1</td>\n      <td>Bachelors</td>\n      <td>40</td>\n      <td>&gt;50K</td>\n    </tr>\n    <tr>\n      <th>11</th>\n      <td>23</td>\n      <td>1</td>\n      <td>Bachelors</td>\n      <td>30</td>\n      <td>&lt;=50K</td>\n    </tr>\n    <tr>\n      <th>12</th>\n      <td>32</td>\n      <td>1</td>\n      <td>Assoc-acdm</td>\n      <td>50</td>\n      <td>&lt;=50K</td>\n    </tr>\n    <tr>\n      <th>13</th>\n      <td>40</td>\n      <td>1</td>\n      <td>Assoc-voc</td>\n      <td>40</td>\n      <td>&gt;50K</td>\n    </tr>\n    <tr>\n      <th>14</th>\n      <td>34</td>\n      <td>1</td>\n      <td>7th-8th</td>\n      <td>45</td>\n      <td>&lt;=50K</td>\n    </tr>\n    <tr>\n      <th>15</th>\n      <td>25</td>\n      <td>1</td>\n      <td>HS-grad</td>\n      <td>35</td>\n      <td>&lt;=50K</td>\n    </tr>\n    <tr>\n      <th>16</th>\n      <td>32</td>\n      <td>1</td>\n      <td>HS-grad</td>\n      <td>40</td>\n      <td>&lt;=50K</td>\n    </tr>\n    <tr>\n      <th>17</th>\n      <td>38</td>\n      <td>1</td>\n      <td>11th</td>\n      <td>50</td>\n      <td>&lt;=50K</td>\n    </tr>\n    <tr>\n      <th>18</th>\n      <td>43</td>\n      <td>1</td>\n      <td>Masters</td>\n      <td>45</td>\n      <td>&gt;50K</td>\n    </tr>\n    <tr>\n      <th>19</th>\n      <td>40</td>\n      <td>1</td>\n      <td>Doctorate</td>\n      <td>60</td>\n      <td>&gt;50K</td>\n    </tr>\n    <tr>\n      <th>20</th>\n      <td>54</td>\n      <td>1</td>\n      <td>HS-grad</td>\n      <td>20</td>\n      <td>&lt;=50K</td>\n    </tr>\n    <tr>\n      <th>21</th>\n      <td>35</td>\n      <td>0</td>\n      <td>9th</td>\n      <td>40</td>\n      <td>&lt;=50K</td>\n    </tr>\n    <tr>\n      <th>22</th>\n      <td>43</td>\n      <td>1</td>\n      <td>11th</td>\n      <td>40</td>\n      <td>&lt;=50K</td>\n    </tr>\n    <tr>\n      <th>23</th>\n      <td>59</td>\n      <td>1</td>\n      <td>HS-grad</td>\n      <td>40</td>\n      <td>&lt;=50K</td>\n    </tr>\n    <tr>\n      <th>24</th>\n      <td>56</td>\n      <td>1</td>\n      <td>Bachelors</td>\n      <td>40</td>\n      <td>&gt;50K</td>\n    </tr>\n    <tr>\n      <th>25</th>\n      <td>19</td>\n      <td>1</td>\n      <td>HS-grad</td>\n      <td>40</td>\n      <td>&lt;=50K</td>\n    </tr>\n    <tr>\n      <th>26</th>\n      <td>54</td>\n      <td>1</td>\n      <td>Some-college</td>\n      <td>60</td>\n      <td>&gt;50K</td>\n    </tr>\n    <tr>\n      <th>27</th>\n      <td>39</td>\n      <td>1</td>\n      <td>HS-grad</td>\n      <td>80</td>\n      <td>&lt;=50K</td>\n    </tr>\n    <tr>\n      <th>28</th>\n      <td>49</td>\n      <td>1</td>\n      <td>HS-grad</td>\n      <td>40</td>\n      <td>&lt;=50K</td>\n    </tr>\n    <tr>\n      <th>29</th>\n      <td>23</td>\n      <td>1</td>\n      <td>Assoc-acdm</td>\n      <td>52</td>\n      <td>&lt;=50K</td>\n    </tr>\n    <tr>\n      <th>30</th>\n      <td>20</td>\n      <td>1</td>\n      <td>Some-college</td>\n      <td>44</td>\n      <td>&lt;=50K</td>\n    </tr>\n    <tr>\n      <th>31</th>\n      <td>45</td>\n      <td>1</td>\n      <td>Bachelors</td>\n      <td>40</td>\n      <td>&lt;=50K</td>\n    </tr>\n    <tr>\n      <th>32</th>\n      <td>30</td>\n      <td>0</td>\n      <td>Some-college</td>\n      <td>40</td>\n      <td>&lt;=50K</td>\n    </tr>\n    <tr>\n      <th>33</th>\n      <td>22</td>\n      <td>1</td>\n      <td>Some-college</td>\n      <td>15</td>\n      <td>&lt;=50K</td>\n    </tr>\n    <tr>\n      <th>34</th>\n      <td>48</td>\n      <td>1</td>\n      <td>11th</td>\n      <td>40</td>\n      <td>&lt;=50K</td>\n    </tr>\n    <tr>\n      <th>35</th>\n      <td>21</td>\n      <td>1</td>\n      <td>Some-college</td>\n      <td>40</td>\n      <td>&lt;=50K</td>\n    </tr>\n    <tr>\n      <th>36</th>\n      <td>19</td>\n      <td>1</td>\n      <td>HS-grad</td>\n      <td>25</td>\n      <td>&lt;=50K</td>\n    </tr>\n    <tr>\n      <th>37</th>\n      <td>31</td>\n      <td>1</td>\n      <td>Some-college</td>\n      <td>38</td>\n      <td>&gt;50K</td>\n    </tr>\n    <tr>\n      <th>38</th>\n      <td>48</td>\n      <td>1</td>\n      <td>Assoc-acdm</td>\n      <td>40</td>\n      <td>&lt;=50K</td>\n    </tr>\n    <tr>\n      <th>39</th>\n      <td>31</td>\n      <td>1</td>\n      <td>9th</td>\n      <td>43</td>\n      <td>&lt;=50K</td>\n    </tr>\n    <tr>\n      <th>40</th>\n      <td>53</td>\n      <td>1</td>\n      <td>Bachelors</td>\n      <td>40</td>\n      <td>&lt;=50K</td>\n    </tr>\n    <tr>\n      <th>41</th>\n      <td>24</td>\n      <td>1</td>\n      <td>Bachelors</td>\n      <td>50</td>\n      <td>&lt;=50K</td>\n    </tr>\n    <tr>\n      <th>42</th>\n      <td>49</td>\n      <td>1</td>\n      <td>HS-grad</td>\n      <td>40</td>\n      <td>&lt;=50K</td>\n    </tr>\n    <tr>\n      <th>43</th>\n      <td>25</td>\n      <td>1</td>\n      <td>HS-grad</td>\n      <td>35</td>\n      <td>&lt;=50K</td>\n    </tr>\n    <tr>\n      <th>44</th>\n      <td>57</td>\n      <td>0</td>\n      <td>Bachelors</td>\n      <td>40</td>\n      <td>&gt;50K</td>\n    </tr>\n    <tr>\n      <th>45</th>\n      <td>53</td>\n      <td>1</td>\n      <td>HS-grad</td>\n      <td>38</td>\n      <td>&lt;=50K</td>\n    </tr>\n    <tr>\n      <th>46</th>\n      <td>44</td>\n      <td>1</td>\n      <td>Masters</td>\n      <td>40</td>\n      <td>&lt;=50K</td>\n    </tr>\n    <tr>\n      <th>47</th>\n      <td>41</td>\n      <td>1</td>\n      <td>Assoc-voc</td>\n      <td>40</td>\n      <td>&lt;=50K</td>\n    </tr>\n    <tr>\n      <th>48</th>\n      <td>29</td>\n      <td>1</td>\n      <td>Assoc-voc</td>\n      <td>43</td>\n      <td>&lt;=50K</td>\n    </tr>\n    <tr>\n      <th>49</th>\n      <td>25</td>\n      <td>1</td>\n      <td>Some-college</td>\n      <td>40</td>\n      <td>&lt;=50K</td>\n    </tr>\n  </tbody>\n</table>\n</div>"
     },
     "execution_count": 17,
     "metadata": {},
     "output_type": "execute_result"
    }
   ],
   "source": [
    "#Преобразование категориальных признаков в числовые\n",
    "le = LabelEncoder()\n",
    "le.fit(df.workclass)\n",
    "df['workclass'] = le.transform(df.workclass)\n",
    "df.head(50)\n",
    "# df.workclass.unique()\n",
    "# df.workclass = pd.get_dummies(df.workclass)\n",
    "# df.education = pd.get_dummies(df.education)\n",
    "# # Матричная диаграмма рассеивания\n",
    "# sns.set_style(\"whitegrid\")\n",
    "# sns.pairplot(df, hue=\"income\", height=3)\n",
    "# plt.show()"
   ],
   "metadata": {
    "collapsed": false,
    "pycharm": {
     "name": "#%%\n"
    }
   }
  },
  {
   "cell_type": "markdown",
   "source": [
    "## Обработка отсутствующих данных"
   ],
   "metadata": {
    "collapsed": false,
    "pycharm": {
     "name": "#%% md\n"
    }
   }
  },
  {
   "cell_type": "code",
   "execution_count": 5,
   "outputs": [
    {
     "name": "stdout",
     "output_type": "stream",
     "text": [
      "age - 0%\n",
      "workclass - 0%\n",
      "education - 0%\n",
      "hours-per-week - 0%\n",
      "income - 0%\n"
     ]
    },
    {
     "data": {
      "text/plain": "<AxesSubplot:>"
     },
     "execution_count": 5,
     "metadata": {},
     "output_type": "execute_result"
    },
    {
     "data": {
      "text/plain": "<Figure size 432x288 with 2 Axes>",
      "image/png": "[encoded data removed]"
     },
     "metadata": {},
     "output_type": "display_data"
    }
   ],
   "source": [
    "for col in df.columns:\n",
    "    pct_missing = np.mean(df[col].isnull()*100)\n",
    "    print('{} - {}%'.format(col, round(pct_missing)))\n",
    "cols = df.columns # первые 30 колонок\n",
    "# определяем цвета\n",
    "# желтый - пропущенные данные, синий - не пропущенные\n",
    "colours = ['#000099', '#ffff00']\n",
    "sns.heatmap(df[cols].isnull(), cmap=sns.color_palette(colours))"
   ],
   "metadata": {
    "collapsed": false,
    "pycharm": {
     "name": "#%%\n"
    }
   }
  },
  {
   "cell_type": "code",
   "execution_count": null,
   "outputs": [],
   "source": [
    "num_features = 4\n",
    "X, Y = make_classification(n_samples=150, n_features=num_features,\n",
    "                           n_informative=2, n_classes=2,\n",
    "                           n_redundant=0,\n",
    "                           n_clusters_per_class=1,\n",
    "                           random_state=0)\n",
    "\n",
    "X_train, X_test, Y_train, Y_test = train_test_split(X, Y,test_size=50,\n",
    "                                                    random_state=0)\n",
    "X = df.values[:, :3]\n",
    "Y = df.values[:, 4]\n",
    "trainX, testX, trainY, testY = train_test_split( X, Y, test_size = 0.3)\n",
    "\n"
   ],
   "metadata": {
    "collapsed": false,
    "pycharm": {
     "name": "#%%\n"
    }
   }
  },
  {
   "cell_type": "markdown",
   "metadata": {
    "id": "SZ-J8Gc9jGS7"
   },
   "source": [
    "## Метод ближайшего соседа"
   ]
  },
  {
   "cell_type": "code",
   "metadata": {
    "id": "gpQOhoZyjGS_",
    "executionInfo": {
     "status": "ok",
     "timestamp": 1604247798243,
     "user_tz": -600,
     "elapsed": 1113,
     "user": {
      "displayName": "Sergey Smagin",
      "photoUrl": "https://lh3.googleusercontent.com/a-/AOh14GgCROeKf3VhZQ6pxiXegY8H_feK83aMuD9MEbD6zA=s64",
      "userId": "01695114342686628500"
     }
    }
   },
   "source": [
    "model = KNeighborsClassifier(n_neighbors=1)\n",
    "_ = model.fit(X_train, Y_train)"
   ],
   "execution_count": null,
   "outputs": []
  },
  {
   "cell_type": "code",
   "metadata": {
    "id": "rk97Ws46jGTL",
    "executionInfo": {
     "status": "ok",
     "timestamp": 1604247811000,
     "user_tz": -600,
     "elapsed": 10906,
     "user": {
      "displayName": "Sergey Smagin",
      "photoUrl": "https://lh3.googleusercontent.com/a-/AOh14GgCROeKf3VhZQ6pxiXegY8H_feK83aMuD9MEbD6zA=s64",
      "userId": "01695114342686628500"
     }
    },
    "outputId": "16ed323b-480d-45ad-9b2e-d8b97ca4e54e",
    "colab": {
     "base_uri": "https://localhost:8080/",
     "height": 356
    }
   },
   "source": [
    "fig, gs = plt.figure(figsize=(19,4)), gridspec.GridSpec(1, num_features*2)\n",
    "\n",
    "ax = []\n",
    "for i in range(num_features):\n",
    "    ax.append(fig.add_subplot(gs[i]))\n",
    "value=1.0\n",
    "width=0.75\n",
    "plot_decision_regions(X_train, Y_train, model, ax=ax[0],\n",
    "                       filler_feature_values={2: value, 3:value},\n",
    "                  filler_feature_ranges={2: width, 3:width},\n",
    "                  legend=2)\n",
    "ax[0].set_xlabel('Age')\n",
    "ax[0].set_ylabel('Workclass')\n",
    "print(\"Правильность на обучающей выборке : {:.2f}\".format(model.score(X_train,Y_train)))\n",
    "plot_decision_regions(X_test, Y_test, model, ax=ax[1],\n",
    "                       filler_feature_values={2: value, 3:value},\n",
    "                  filler_feature_ranges={2: width, 3:width},\n",
    "                  legend=2)\n",
    "ax[1].set_xlabel('Age')\n",
    "ax[1].set_ylabel('Workclass')\n",
    "print(\"Правильность на контрольной выборке : {:.2f}\".format(model.score(X_test,Y_test)))\n",
    "\n"
   ],
   "execution_count": null,
   "outputs": []
  },
  {
   "cell_type": "markdown",
   "metadata": {
    "id": "KakfzTcrjGTX"
   },
   "source": [
    "## Метод k-ближайших соседей"
   ]
  },
  {
   "cell_type": "code",
   "metadata": {
    "id": "rE-02uUAjGTZ",
    "executionInfo": {
     "status": "ok",
     "timestamp": 1604247855097,
     "user_tz": -600,
     "elapsed": 1093,
     "user": {
      "displayName": "Sergey Smagin",
      "photoUrl": "https://lh3.googleusercontent.com/a-/AOh14GgCROeKf3VhZQ6pxiXegY8H_feK83aMuD9MEbD6zA=s64",
      "userId": "01695114342686628500"
     }
    }
   },
   "source": [
    "models = []\n",
    "for n_neighbors in range(1, 50):\n",
    "    model = KNeighborsClassifier(n_neighbors=n_neighbors)\n",
    "    model.fit(X_train, Y_train)\n",
    "    models.append(model)"
   ],
   "execution_count": null,
   "outputs": []
  },
  {
   "cell_type": "code",
   "metadata": {
    "id": "Up3fDfjOjGTn",
    "executionInfo": {
     "status": "ok",
     "timestamp": 1604247923214,
     "user_tz": -600,
     "elapsed": 40232,
     "user": {
      "displayName": "Sergey Smagin",
      "photoUrl": "https://lh3.googleusercontent.com/a-/AOh14GgCROeKf3VhZQ6pxiXegY8H_feK83aMuD9MEbD6zA=s64",
      "userId": "01695114342686628500"
     }
    },
    "outputId": "63ef9752-7061-42fd-acef-4ab418c68438",
    "colab": {
     "base_uri": "https://localhost:8080/",
     "height": 421
    }
   },
   "source": [
    "fig, gs = plt.figure(figsize=(19,4)), gridspec.GridSpec(1, 4)\n",
    "\n",
    "ax = []\n",
    "for i in range(4):\n",
    "    ax.append(fig.add_subplot(gs[i]))\n",
    "\n",
    "for i in range(4):\n",
    "    plot_decision_regions(X_test, Y_test, models[i], ax=ax[i])\n",
    "\n",
    "plt.show()"
   ],
   "execution_count": null,
   "outputs": []
  },
  {
   "cell_type": "code",
   "metadata": {
    "id": "aGmYvZzMjGT0",
    "executionInfo": {
     "status": "ok",
     "timestamp": 1604247411060,
     "user_tz": -600,
     "elapsed": 97375,
     "user": {
      "displayName": "Sergey Smagin",
      "photoUrl": "https://lh3.googleusercontent.com/a-/AOh14GgCROeKf3VhZQ6pxiXegY8H_feK83aMuD9MEbD6zA=s64",
      "userId": "01695114342686628500"
     }
    },
    "outputId": "214153ab-4a0d-4113-a24d-177e961c184b",
    "colab": {
     "base_uri": "https://localhost:8080/",
     "height": 421
    }
   },
   "source": [
    "fig, gs = plt.figure(figsize=(19,4)), gridspec.GridSpec(1, 4)\n",
    "\n",
    "ax = []\n",
    "for i in range(4):\n",
    "    ax.append(fig.add_subplot(gs[i]))\n",
    "\n",
    "for i in range(4):\n",
    "    plot_decision_regions(X_test, Y_test, models[12*i], ax=ax[i])\n",
    "\n",
    "plt.show()"
   ],
   "execution_count": null,
   "outputs": []
  },
  {
   "cell_type": "markdown",
   "metadata": {
    "id": "huy7ZoGwjGUA"
   },
   "source": [
    "## Метод k-ближайших соседей с линейно убивающими весами"
   ]
  },
  {
   "cell_type": "code",
   "metadata": {
    "id": "-5gPVyzOjGUC",
    "executionInfo": {
     "status": "ok",
     "timestamp": 1604247411060,
     "user_tz": -600,
     "elapsed": 97328,
     "user": {
      "displayName": "Sergey Smagin",
      "photoUrl": "https://lh3.googleusercontent.com/a-/AOh14GgCROeKf3VhZQ6pxiXegY8H_feK83aMuD9MEbD6zA=s64",
      "userId": "01695114342686628500"
     }
    }
   },
   "source": [
    "def func(distance):\n",
    "    ret = np.ones_like(distance)\n",
    "    k = ret.shape[1]\n",
    "    for i in range(k):\n",
    "        ret[:, i] *= (k-i)/k\n",
    "    return ret"
   ],
   "execution_count": null,
   "outputs": []
  },
  {
   "cell_type": "code",
   "metadata": {
    "id": "q_OE_iNYjGUN",
    "executionInfo": {
     "status": "ok",
     "timestamp": 1604247411060,
     "user_tz": -600,
     "elapsed": 97303,
     "user": {
      "displayName": "Sergey Smagin",
      "photoUrl": "https://lh3.googleusercontent.com/a-/AOh14GgCROeKf3VhZQ6pxiXegY8H_feK83aMuD9MEbD6zA=s64",
      "userId": "01695114342686628500"
     }
    }
   },
   "source": [
    "models = []\n",
    "for n_neighbors in range(1, 51):\n",
    "    model = KNeighborsClassifier(n_neighbors=n_neighbors, \n",
    "                                 weights=func)\n",
    "    model.fit(X_train, Y_train)\n",
    "    models.append(model)"
   ],
   "execution_count": null,
   "outputs": []
  },
  {
   "cell_type": "code",
   "metadata": {
    "id": "mkEt5X6xjGUa",
    "executionInfo": {
     "status": "ok",
     "timestamp": 1604247413271,
     "user_tz": -600,
     "elapsed": 99445,
     "user": {
      "displayName": "Sergey Smagin",
      "photoUrl": "https://lh3.googleusercontent.com/a-/AOh14GgCROeKf3VhZQ6pxiXegY8H_feK83aMuD9MEbD6zA=s64",
      "userId": "01695114342686628500"
     }
    },
    "outputId": "97c4b6b5-ce4b-4316-d593-b2fc3eaf3fd8",
    "colab": {
     "base_uri": "https://localhost:8080/",
     "height": 421
    }
   },
   "source": [
    "fig, gs = plt.figure(figsize=(19,4)), gridspec.GridSpec(1, 4)\n",
    "\n",
    "ax = []\n",
    "for i in range(4):\n",
    "    ax.append(fig.add_subplot(gs[i]))\n",
    "\n",
    "for i in range(4):\n",
    "    plot_decision_regions(X_test, Y_test, models[i], ax=ax[i])\n",
    "\n",
    "plt.show()"
   ],
   "execution_count": null,
   "outputs": []
  },
  {
   "cell_type": "code",
   "metadata": {
    "id": "degE33IbjGUl",
    "executionInfo": {
     "status": "ok",
     "timestamp": 1604247419480,
     "user_tz": -600,
     "elapsed": 105575,
     "user": {
      "displayName": "Sergey Smagin",
      "photoUrl": "https://lh3.googleusercontent.com/a-/AOh14GgCROeKf3VhZQ6pxiXegY8H_feK83aMuD9MEbD6zA=s64",
      "userId": "01695114342686628500"
     }
    },
    "outputId": "da355bc6-7fb9-436e-828d-4aaeb6e5d168",
    "colab": {
     "base_uri": "https://localhost:8080/",
     "height": 421
    }
   },
   "source": [
    "fig, gs = plt.figure(figsize=(19,4)), gridspec.GridSpec(1, 4)\n",
    "\n",
    "ax = []\n",
    "for i in range(4):\n",
    "    ax.append(fig.add_subplot(gs[i]))\n",
    "\n",
    "for i in range(4):\n",
    "    plot_decision_regions(X_test, Y_test, models[12*i], ax=ax[i])\n",
    "\n",
    "plt.show()"
   ],
   "execution_count": null,
   "outputs": []
  },
  {
   "cell_type": "markdown",
   "metadata": {
    "id": "_1o897Q1jGUw"
   },
   "source": [
    "## Метод окна Парзена"
   ]
  },
  {
   "cell_type": "code",
   "metadata": {
    "id": "oJY4UgDyjGUz",
    "executionInfo": {
     "status": "ok",
     "timestamp": 1604247419486,
     "user_tz": -600,
     "elapsed": 105468,
     "user": {
      "displayName": "Sergey Smagin",
      "photoUrl": "https://lh3.googleusercontent.com/a-/AOh14GgCROeKf3VhZQ6pxiXegY8H_feK83aMuD9MEbD6zA=s64",
      "userId": "01695114342686628500"
     }
    }
   },
   "source": [
    "def K(distance, h=0.05):\n",
    "    ret = np.array(distance)/h\n",
    "    return (1 - ret**2) * (np.abs(ret) <= 1)"
   ],
   "execution_count": null,
   "outputs": []
  },
  {
   "cell_type": "code",
   "metadata": {
    "id": "B7BkZd2TjGVH",
    "executionInfo": {
     "status": "ok",
     "timestamp": 1604247440356,
     "user_tz": -600,
     "elapsed": 126265,
     "user": {
      "displayName": "Sergey Smagin",
      "photoUrl": "https://lh3.googleusercontent.com/a-/AOh14GgCROeKf3VhZQ6pxiXegY8H_feK83aMuD9MEbD6zA=s64",
      "userId": "01695114342686628500"
     }
    },
    "outputId": "b3d62819-cbb6-4939-bbab-a409228fa456",
    "colab": {
     "base_uri": "https://localhost:8080/",
     "height": 421
    }
   },
   "source": [
    "fig, gs = plt.figure(figsize=(19,4)), gridspec.GridSpec(1, 4)\n",
    "\n",
    "ax = []\n",
    "for i, h in enumerate([0.05, 0.1, 0.2, 0.5]):\n",
    "    model = KNeighborsClassifier(n_neighbors=len(X_train),\n",
    "                                 weights=lambda x: K(x, h=h))\n",
    "    model.fit(X_train, Y_train)\n",
    "    ax.append(fig.add_subplot(gs[i]))\n",
    "    plot_decision_regions(X_test, Y_test, model, ax=ax[i])\n",
    "\n",
    "plt.show()"
   ],
   "execution_count": null,
   "outputs": []
  },
  {
   "cell_type": "code",
   "metadata": {
    "id": "Ef4tNtw4jGVW",
    "executionInfo": {
     "status": "ok",
     "timestamp": 1604247462398,
     "user_tz": -600,
     "elapsed": 148227,
     "user": {
      "displayName": "Sergey Smagin",
      "photoUrl": "https://lh3.googleusercontent.com/a-/AOh14GgCROeKf3VhZQ6pxiXegY8H_feK83aMuD9MEbD6zA=s64",
      "userId": "01695114342686628500"
     }
    },
    "outputId": "d94188f5-fd33-4d6b-e230-9a778d0abc5e",
    "colab": {
     "base_uri": "https://localhost:8080/",
     "height": 421
    }
   },
   "source": [
    "fig, gs = plt.figure(figsize=(19,4)), gridspec.GridSpec(1, 4)\n",
    "\n",
    "ax = []\n",
    "for i, h in enumerate([0.05, 0.2, 1.0, 5.0]):\n",
    "    model = KNeighborsClassifier(n_neighbors=len(X_train),\n",
    "                                 weights=lambda x: K(x, h=h))\n",
    "    model.fit(X_train, Y_train)\n",
    "    ax.append(fig.add_subplot(gs[i]))\n",
    "    plot_decision_regions(X_test, Y_test, model, ax=ax[i])\n",
    "\n",
    "plt.show()"
   ],
   "execution_count": null,
   "outputs": []
  }
 ]
}