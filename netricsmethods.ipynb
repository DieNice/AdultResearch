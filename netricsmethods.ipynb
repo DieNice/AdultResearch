{
 "nbformat": 4,
 "nbformat_minor": 0,
 "metadata": {
  "celltoolbar": "Slideshow",
  "kernelspec": {
   "display_name": "Python 3",
   "language": "python",
   "name": "python3"
  },
  "language_info": {
   "codemirror_mode": {
    "name": "ipython",
    "version": 3
   },
   "file_extension": ".py",
   "mimetype": "text/x-python",
   "name": "python",
   "nbconvert_exporter": "python",
   "pygments_lexer": "ipython3",
   "version": "3.6.2"
  },
  "colab": {
   "name": "1 Метрические методы.ipynb",
   "provenance": [],
   "collapsed_sections": []
  }
 },
 "cells": [
  {
   "cell_type": "markdown",
   "metadata": {
    "id": "oq3GeRTpjGSF"
   },
   "source": [
    "# Метрические методы классификации"
   ]
  },
  {
   "cell_type": "markdown",
   "metadata": {
    "id": "-MTdRn9SjGSN"
   },
   "source": [
    "## Библиотеки"
   ]
  },
  {
   "cell_type": "code",
   "metadata": {
    "id": "hn_j94qCjGSP",
    "executionInfo": {
     "status": "ok",
     "timestamp": 1604247319950,
     "user_tz": -600,
     "elapsed": 6589,
     "user": {
      "displayName": "Sergey Smagin",
      "photoUrl": "https://lh3.googleusercontent.com/a-/AOh14GgCROeKf3VhZQ6pxiXegY8H_feK83aMuD9MEbD6zA=s64",
      "userId": "01695114342686628500"
     }
    }
   },
   "source": [
    "import matplotlib.pyplot as plt\n",
    "import numpy as np\n",
    "import seaborn as sns\n",
    "import pandas as pd\n",
    "from matplotlib import gridspec\n",
    "from mlxtend.plotting import plot_decision_regions\n",
    "from sklearn.datasets import make_classification\n",
    "from sklearn.model_selection import train_test_split\n",
    "from sklearn.neighbors import KNeighborsClassifier\n",
    "from sklearn.preprocessing import LabelEncoder\n"
   ],
   "execution_count": 86,
   "outputs": []
  },
  {
   "cell_type": "markdown",
   "metadata": {
    "id": "s6P7nDDvjGSr"
   },
   "source": [
    "## Выборка данных"
   ]
  },
  {
   "cell_type": "code",
   "metadata": {
    "id": "XT0MIZhIjGSu",
    "executionInfo": {
     "status": "ok",
     "timestamp": 1604247795861,
     "user_tz": -600,
     "elapsed": 1075,
     "user": {
      "displayName": "Sergey Smagin",
      "photoUrl": "https://lh3.googleusercontent.com/a-/AOh14GgCROeKf3VhZQ6pxiXegY8H_feK83aMuD9MEbD6zA=s64",
      "userId": "01695114342686628500"
     }
    }
   },
   "source": [
    "df = pd.read_csv('adultdataset/adult.csv',',')\n",
    "df.columns=['age','workclass','fnlwgt','education','education-num','marital-status','occupation','relationship','race','sex','capital-gain','capital-loss','hours-per-week','native-country','income']\n",
    "del df['workclass']\n",
    "del df['marital-status']\n",
    "del df['education-num']\n",
    "del df['occupation']\n",
    "del df['relationship']\n",
    "del df['race']\n",
    "del df['sex']\n",
    "del df['capital-gain']\n",
    "del df['capital-loss']\n",
    "del df['native-country']\n",
    "df.head()"
   ],
   "execution_count": 87,
   "outputs": [
    {
     "data": {
      "text/plain": "   age  fnlwgt   education  hours-per-week  income\n0   50   83311   Bachelors              13   <=50K\n1   38  215646     HS-grad              40   <=50K\n2   53  234721        11th              40   <=50K\n3   28  338409   Bachelors              40   <=50K\n4   37  284582     Masters              40   <=50K",
      "text/html": "<div>\n<style scoped>\n    .dataframe tbody tr th:only-of-type {\n        vertical-align: middle;\n    }\n\n    .dataframe tbody tr th {\n        vertical-align: top;\n    }\n\n    .dataframe thead th {\n        text-align: right;\n    }\n</style>\n<table border=\"1\" class=\"dataframe\">\n  <thead>\n    <tr style=\"text-align: right;\">\n      <th></th>\n      <th>age</th>\n      <th>fnlwgt</th>\n      <th>education</th>\n      <th>hours-per-week</th>\n      <th>income</th>\n    </tr>\n  </thead>\n  <tbody>\n    <tr>\n      <th>0</th>\n      <td>50</td>\n      <td>83311</td>\n      <td>Bachelors</td>\n      <td>13</td>\n      <td>&lt;=50K</td>\n    </tr>\n    <tr>\n      <th>1</th>\n      <td>38</td>\n      <td>215646</td>\n      <td>HS-grad</td>\n      <td>40</td>\n      <td>&lt;=50K</td>\n    </tr>\n    <tr>\n      <th>2</th>\n      <td>53</td>\n      <td>234721</td>\n      <td>11th</td>\n      <td>40</td>\n      <td>&lt;=50K</td>\n    </tr>\n    <tr>\n      <th>3</th>\n      <td>28</td>\n      <td>338409</td>\n      <td>Bachelors</td>\n      <td>40</td>\n      <td>&lt;=50K</td>\n    </tr>\n    <tr>\n      <th>4</th>\n      <td>37</td>\n      <td>284582</td>\n      <td>Masters</td>\n      <td>40</td>\n      <td>&lt;=50K</td>\n    </tr>\n  </tbody>\n</table>\n</div>"
     },
     "execution_count": 87,
     "metadata": {},
     "output_type": "execute_result"
    }
   ]
  },
  {
   "cell_type": "markdown",
   "source": [
    "## Обработка данных"
   ],
   "metadata": {
    "collapsed": false,
    "pycharm": {
     "name": "#%% md\n"
    }
   }
  },
  {
   "cell_type": "code",
   "execution_count": 88,
   "outputs": [
    {
     "name": "stdout",
     "output_type": "stream",
     "text": [
      "16\n"
     ]
    },
    {
     "data": {
      "text/plain": "   age  fnlwgt  education  hours-per-week  income\n0   50   83311          9              13   <=50K\n1   38  215646         11              40   <=50K\n2   53  234721          1              40   <=50K\n3   28  338409          9              40   <=50K\n4   37  284582         12              40   <=50K",
      "text/html": "<div>\n<style scoped>\n    .dataframe tbody tr th:only-of-type {\n        vertical-align: middle;\n    }\n\n    .dataframe tbody tr th {\n        vertical-align: top;\n    }\n\n    .dataframe thead th {\n        text-align: right;\n    }\n</style>\n<table border=\"1\" class=\"dataframe\">\n  <thead>\n    <tr style=\"text-align: right;\">\n      <th></th>\n      <th>age</th>\n      <th>fnlwgt</th>\n      <th>education</th>\n      <th>hours-per-week</th>\n      <th>income</th>\n    </tr>\n  </thead>\n  <tbody>\n    <tr>\n      <th>0</th>\n      <td>50</td>\n      <td>83311</td>\n      <td>9</td>\n      <td>13</td>\n      <td>&lt;=50K</td>\n    </tr>\n    <tr>\n      <th>1</th>\n      <td>38</td>\n      <td>215646</td>\n      <td>11</td>\n      <td>40</td>\n      <td>&lt;=50K</td>\n    </tr>\n    <tr>\n      <th>2</th>\n      <td>53</td>\n      <td>234721</td>\n      <td>1</td>\n      <td>40</td>\n      <td>&lt;=50K</td>\n    </tr>\n    <tr>\n      <th>3</th>\n      <td>28</td>\n      <td>338409</td>\n      <td>9</td>\n      <td>40</td>\n      <td>&lt;=50K</td>\n    </tr>\n    <tr>\n      <th>4</th>\n      <td>37</td>\n      <td>284582</td>\n      <td>12</td>\n      <td>40</td>\n      <td>&lt;=50K</td>\n    </tr>\n  </tbody>\n</table>\n</div>"
     },
     "execution_count": 88,
     "metadata": {},
     "output_type": "execute_result"
    }
   ],
   "source": [
    "#Преобразование категориальных признаков в числовые\n",
    "df.education.unique()\n",
    "print(len(df.education.unique()))\n",
    "le = LabelEncoder()\n",
    "le.fit(df.education)\n",
    "df['education'] = le.transform(df.education)\n",
    "df.head()\n",
    "# # Матричная диаграмма рассеивания\n",
    "# sns.set_style(\"whitegrid\")\n",
    "# sns.pairplot(df, hue=\"income\", height=3)\n",
    "# plt.show()"
   ],
   "metadata": {
    "collapsed": false,
    "pycharm": {
     "name": "#%%\n"
    }
   }
  },
  {
   "cell_type": "markdown",
   "source": [
    "## Обработка отсутствующих данных"
   ],
   "metadata": {
    "collapsed": false,
    "pycharm": {
     "name": "#%% md\n"
    }
   }
  },
  {
   "cell_type": "code",
   "execution_count": 89,
   "outputs": [
    {
     "name": "stdout",
     "output_type": "stream",
     "text": [
      "age - 0%\n",
      "fnlwgt - 0%\n",
      "education - 0%\n",
      "hours-per-week - 0%\n",
      "income - 0%\n"
     ]
    }
   ],
   "source": [
    "def countNaN(df)->int:\n",
    "    c = 0\n",
    "    for k,v in df.items():\n",
    "        if str(df[k]).strip() == '?':\n",
    "            c += 1\n",
    "    all = df.count()\n",
    "    if c == 0:\n",
    "        return c\n",
    "    return all/c\n",
    "\n",
    "for col in df.columns:\n",
    "    print('{} - {}%'.format(col,countNaN(df[col])))"
   ],
   "metadata": {
    "collapsed": false,
    "pycharm": {
     "name": "#%%\n"
    }
   }
  },
  {
   "cell_type": "markdown",
   "source": [
    "## Обнаружение неинформативных признаков"
   ],
   "metadata": {
    "collapsed": false
   }
  },
  {
   "cell_type": "code",
   "execution_count": 90,
   "outputs": [
    {
     "name": "stdout",
     "output_type": "stream",
     "text": [
      "age column It' ok!\n",
      "fnlwgt column It' ok!\n",
      "education column It' ok!\n",
      "hours-per-week column It' ok!\n",
      "income column It' ok!\n"
     ]
    }
   ],
   "source": [
    "num_rows = len(df.index)\n",
    "low_information_cols = [] #\n",
    "\n",
    "for col in df.columns:\n",
    "    cnts = df[col].value_counts(dropna=False)\n",
    "    top_pct = (cnts/num_rows).iloc[0]\n",
    "\n",
    "    if top_pct > 0.95:\n",
    "        low_information_cols.append(col)\n",
    "        print('{0}: {1:.5f}%'.format(col, top_pct*100))\n",
    "        print(cnts)\n",
    "        print()\n",
    "    else:\n",
    "        print(\"{} column It' ok!\".format(col))"
   ],
   "metadata": {
    "collapsed": false,
    "pycharm": {
     "name": "#%%\n"
    }
   }
  },
  {
   "cell_type": "markdown",
   "source": [
    "## Диаграммы для обнаружения выбросов"
   ],
   "metadata": {
    "collapsed": false
   }
  },
  {
   "cell_type": "code",
   "execution_count": 91,
   "outputs": [
    {
     "data": {
      "text/plain": "count    32560.000000\nmean        38.581634\nstd         13.640642\nmin         17.000000\n25%         28.000000\n50%         37.000000\n75%         48.000000\nmax         90.000000\nName: age, dtype: float64"
     },
     "execution_count": 91,
     "metadata": {},
     "output_type": "execute_result"
    },
    {
     "data": {
      "text/plain": "<Figure size 432x288 with 1 Axes>",
      "image/png": "[encoded data removed]"
     },
     "metadata": {
      "needs_background": "light"
     },
     "output_type": "display_data"
    }
   ],
   "source": [
    "df['age'].hist(bins=100)\n",
    "df['age'].describe()"
   ],
   "metadata": {
    "collapsed": false,
    "pycharm": {
     "name": "#%%\n"
    }
   }
  },
  {
   "cell_type": "code",
   "execution_count": 92,
   "outputs": [
    {
     "data": {
      "text/plain": "count    3.256000e+04\nmean     1.897818e+05\nstd      1.055498e+05\nmin      1.228500e+04\n25%      1.178315e+05\n50%      1.783630e+05\n75%      2.370545e+05\nmax      1.484705e+06\nName: fnlwgt, dtype: float64"
     },
     "execution_count": 92,
     "metadata": {},
     "output_type": "execute_result"
    },
    {
     "data": {
      "text/plain": "<Figure size 432x288 with 1 Axes>",
      "image/png": "[encoded data removed]"
     },
     "metadata": {
      "needs_background": "light"
     },
     "output_type": "display_data"
    }
   ],
   "source": [
    "df['fnlwgt'].hist(bins=100)\n",
    "df['fnlwgt'].describe()"
   ],
   "metadata": {
    "collapsed": false,
    "pycharm": {
     "name": "#%%\n"
    }
   }
  },
  {
   "cell_type": "code",
   "execution_count": 93,
   "outputs": [
    {
     "data": {
      "text/plain": "count    32560.000000\nmean        40.437469\nstd         12.347618\nmin          1.000000\n25%         40.000000\n50%         40.000000\n75%         45.000000\nmax         99.000000\nName: hours-per-week, dtype: float64"
     },
     "execution_count": 93,
     "metadata": {},
     "output_type": "execute_result"
    },
    {
     "data": {
      "text/plain": "<Figure size 432x288 with 1 Axes>",
      "image/png": "[encoded data removed]"
     },
     "metadata": {
      "needs_background": "light"
     },
     "output_type": "display_data"
    }
   ],
   "source": [
    "df['hours-per-week'].hist(bins=100)\n",
    "df['hours-per-week'].describe()"
   ],
   "metadata": {
    "collapsed": false,
    "pycharm": {
     "name": "#%%\n"
    }
   }
  },
  {
   "cell_type": "markdown",
   "source": [
    "## Удаление выбросов"
   ],
   "metadata": {
    "collapsed": false,
    "pycharm": {
     "name": "#%% md\n"
    }
   }
  },
  {
   "cell_type": "code",
   "execution_count": 94,
   "outputs": [],
   "source": [
    "copydf = df\n",
    "countdfold = df.count()\n",
    "def remove_outlier(df_in, col_name):\n",
    "    q1 = df_in[col_name].quantile(0.25)\n",
    "    q3 = df_in[col_name].quantile(0.75)\n",
    "    iqr = q3-q1 #Interquartile range\n",
    "    fence_low  = q1-1.5*iqr\n",
    "    fence_high = q3+1.5*iqr\n",
    "    df_out = df_in.loc[(df_in[col_name] > fence_low) & (df_in[col_name] < fence_high)]\n",
    "    return df_out\n",
    "\n",
    "copydf = remove_outlier(copydf,'age')\n",
    "copydf = remove_outlier(copydf,'fnlwgt')\n",
    "copydf = remove_outlier(copydf,'hours-per-week')"
   ],
   "metadata": {
    "collapsed": false,
    "pycharm": {
     "name": "#%%\n"
    }
   }
  },
  {
   "cell_type": "code",
   "execution_count": 95,
   "outputs": [
    {
     "data": {
      "text/plain": "count    22748.000000\nmean        38.841481\nstd         12.185529\nmin         17.000000\n25%         29.000000\n50%         38.000000\n75%         47.000000\nmax         77.000000\nName: age, dtype: float64"
     },
     "execution_count": 95,
     "metadata": {},
     "output_type": "execute_result"
    },
    {
     "data": {
      "text/plain": "<Figure size 432x288 with 1 Axes>",
      "image/png": "[encoded data removed]"
     },
     "metadata": {
      "needs_background": "light"
     },
     "output_type": "display_data"
    }
   ],
   "source": [
    "copydf['age'].hist(bins=100)\n",
    "copydf['age'].describe()"
   ],
   "metadata": {
    "collapsed": false,
    "pycharm": {
     "name": "#%%\n"
    }
   }
  },
  {
   "cell_type": "code",
   "execution_count": 96,
   "outputs": [
    {
     "data": {
      "text/plain": "count     22748.000000\nmean     181256.910761\nstd       87083.590087\nmin       14878.000000\n25%      117779.000000\n50%      177073.500000\n75%      230023.750000\nmax      416415.000000\nName: fnlwgt, dtype: float64"
     },
     "execution_count": 96,
     "metadata": {},
     "output_type": "execute_result"
    },
    {
     "data": {
      "text/plain": "<Figure size 432x288 with 1 Axes>",
      "image/png": "[encoded data removed]"
     },
     "metadata": {
      "needs_background": "light"
     },
     "output_type": "display_data"
    }
   ],
   "source": [
    "copydf['fnlwgt'].hist(bins=100)\n",
    "copydf['fnlwgt'].describe()"
   ],
   "metadata": {
    "collapsed": false,
    "pycharm": {
     "name": "#%%\n"
    }
   }
  },
  {
   "cell_type": "code",
   "execution_count": 97,
   "outputs": [
    {
     "data": {
      "text/plain": "count    22748.000000\nmean        41.571743\nstd          4.019296\nmin         33.000000\n25%         40.000000\n50%         40.000000\n75%         42.000000\nmax         52.000000\nName: hours-per-week, dtype: float64"
     },
     "execution_count": 97,
     "metadata": {},
     "output_type": "execute_result"
    },
    {
     "data": {
      "text/plain": "<Figure size 432x288 with 1 Axes>",
      "image/png": "[encoded data removed]"
     },
     "metadata": {
      "needs_background": "light"
     },
     "output_type": "display_data"
    }
   ],
   "source": [
    "copydf['hours-per-week'].hist(bins=100)\n",
    "copydf['hours-per-week'].describe()"
   ],
   "metadata": {
    "collapsed": false,
    "pycharm": {
     "name": "#%%\n"
    }
   }
  },
  {
   "cell_type": "code",
   "execution_count": 99,
   "outputs": [
    {
     "name": "stdout",
     "output_type": "stream",
     "text": [
      "Old data frames\n",
      "age               32560\n",
      "fnlwgt            32560\n",
      "education         32560\n",
      "hours-per-week    32560\n",
      "income            32560\n",
      "dtype: int64\n",
      "\n",
      "New data frames\n"
     ]
    },
    {
     "data": {
      "text/plain": "age               22748\nfnlwgt            22748\neducation         22748\nhours-per-week    22748\nincome            22748\ndtype: int64"
     },
     "execution_count": 99,
     "metadata": {},
     "output_type": "execute_result"
    }
   ],
   "source": [
    "print(\"Old data frames\")\n",
    "print(countdfold)\n",
    "print(\"\\nNew data frames\")\n",
    "copydf.count()"
   ],
   "metadata": {
    "collapsed": false,
    "pycharm": {
     "name": "#%%\n"
    }
   }
  },
  {
   "cell_type": "code",
   "execution_count": 108,
   "outputs": [],
   "source": [
    "num_features = 4\n",
    "X, Y = make_classification(n_samples=22000, n_features=num_features,\n",
    "                           n_informative=4, n_classes=2,\n",
    "                           n_redundant=0,\n",
    "                           n_clusters_per_class=1,\n",
    "                           random_state=0)\n",
    "\n",
    "X_train, X_test, Y_train, Y_test = train_test_split(X, Y,test_size=50,\n",
    "                                                    random_state=0)\n",
    "X = copydf.values[:, :3]\n",
    "Y = copydf.values[:, 4]\n",
    "trainX, testX, trainY, testY = train_test_split( X, Y, test_size = 0.3)\n",
    "\n"
   ],
   "metadata": {
    "collapsed": false,
    "pycharm": {
     "name": "#%%\n"
    }
   }
  },
  {
   "cell_type": "markdown",
   "source": [
    "## Метод ближайшего соседа"
   ],
   "metadata": {
    "collapsed": false
   }
  },
  {
   "cell_type": "code",
   "execution_count": 109,
   "outputs": [],
   "source": [
    "model = KNeighborsClassifier(n_neighbors=1)\n",
    "_ = model.fit(X_train, Y_train)"
   ],
   "metadata": {
    "collapsed": false,
    "pycharm": {
     "name": "#%%\n"
    }
   }
  },
  {
   "cell_type": "code",
   "execution_count": 110,
   "outputs": [
    {
     "name": "stdout",
     "output_type": "stream",
     "text": [
      "Правильность на обучающей выборке : 1.00\n",
      "Правильность на контрольной выборке : 0.96\n"
     ]
    },
    {
     "data": {
      "text/plain": "<Figure size 1368x288 with 4 Axes>",
      "image/png": "[encoded data removed]"
     },
     "metadata": {
      "needs_background": "light"
     },
     "output_type": "display_data"
    }
   ],
   "source": [
    "fig, gs = plt.figure(figsize=(19,4)), gridspec.GridSpec(1, num_features*2)\n",
    "\n",
    "ax = []\n",
    "for i in range(num_features):\n",
    "    ax.append(fig.add_subplot(gs[i]))\n",
    "value=1.0\n",
    "width=0.75\n",
    "plot_decision_regions(X_train, Y_train, model, ax=ax[0],\n",
    "                       filler_feature_values={2: value, 3:value},\n",
    "                  filler_feature_ranges={2: width, 3:width},\n",
    "                  legend=2)\n",
    "ax[0].set_xlabel('Age')\n",
    "ax[0].set_ylabel('Workclass')\n",
    "print(\"Правильность на обучающей выборке : {:.2f}\".format(model.score(X_train,Y_train)))\n",
    "plot_decision_regions(X_test, Y_test, model, ax=ax[1],\n",
    "                       filler_feature_values={2: value, 3:value},\n",
    "                  filler_feature_ranges={2: width, 3:width},\n",
    "                  legend=2)\n",
    "ax[1].set_xlabel('Age')\n",
    "ax[1].set_ylabel('Workclass')\n",
    "print(\"Правильность на контрольной выборке : {:.2f}\".format(model.score(X_test,Y_test)))\n",
    "\n"
   ],
   "metadata": {
    "collapsed": false,
    "pycharm": {
     "name": "#%%\n"
    }
   }
  },
  {
   "cell_type": "markdown",
   "source": [
    "## Метод k-ближайших соседей"
   ],
   "metadata": {
    "collapsed": false
   }
  },
  {
   "cell_type": "code",
   "execution_count": null,
   "outputs": [],
   "source": [
    "models = []\n",
    "for n_neighbors in range(1, 50):\n",
    "    model = KNeighborsClassifier(n_neighbors=n_neighbors)\n",
    "    model.fit(X_train, Y_train)\n",
    "    models.append(model)"
   ],
   "metadata": {
    "collapsed": false,
    "pycharm": {
     "name": "#%%\n"
    }
   }
  },
  {
   "cell_type": "code",
   "execution_count": null,
   "outputs": [],
   "source": [
    "fig, gs = plt.figure(figsize=(19,4)), gridspec.GridSpec(1, 4)\n",
    "\n",
    "ax = []\n",
    "for i in range(4):\n",
    "    ax.append(fig.add_subplot(gs[i]))\n",
    "\n",
    "for i in range(4):\n",
    "    plot_decision_regions(X_test, Y_test, models[i], ax=ax[i])\n",
    "\n",
    "plt.show()"
   ],
   "metadata": {
    "collapsed": false,
    "pycharm": {
     "name": "#%%\n"
    }
   }
  },
  {
   "cell_type": "code",
   "execution_count": null,
   "outputs": [],
   "source": [
    "fig, gs = plt.figure(figsize=(19,4)), gridspec.GridSpec(1, 4)\n",
    "\n",
    "ax = []\n",
    "for i in range(4):\n",
    "    ax.append(fig.add_subplot(gs[i]))\n",
    "\n",
    "for i in range(4):\n",
    "    plot_decision_regions(X_test, Y_test, models[12*i], ax=ax[i])\n",
    "\n",
    "plt.show()"
   ],
   "metadata": {
    "collapsed": false,
    "pycharm": {
     "name": "#%%\n"
    }
   }
  },
  {
   "cell_type": "markdown",
   "source": [
    "## Метод k-ближайших соседей с линейно убивающими весами"
   ],
   "metadata": {
    "collapsed": false
   }
  },
  {
   "cell_type": "code",
   "execution_count": null,
   "outputs": [],
   "source": [
    "def func(distance):\n",
    "    ret = np.ones_like(distance)\n",
    "    k = ret.shape[1]\n",
    "    for i in range(k):\n",
    "        ret[:, i] *= (k-i)/k\n",
    "    return ret"
   ],
   "metadata": {
    "collapsed": false,
    "pycharm": {
     "name": "#%%\n"
    }
   }
  },
  {
   "cell_type": "code",
   "execution_count": null,
   "outputs": [],
   "source": [
    "models = []\n",
    "for n_neighbors in range(1, 51):\n",
    "    model = KNeighborsClassifier(n_neighbors=n_neighbors,\n",
    "                                 weights=func)\n",
    "    model.fit(X_train, Y_train)\n",
    "    models.append(model)"
   ],
   "metadata": {
    "collapsed": false,
    "pycharm": {
     "name": "#%%\n"
    }
   }
  },
  {
   "cell_type": "code",
   "execution_count": null,
   "outputs": [],
   "source": [
    "fig, gs = plt.figure(figsize=(19,4)), gridspec.GridSpec(1, 4)\n",
    "\n",
    "ax = []\n",
    "for i in range(4):\n",
    "    ax.append(fig.add_subplot(gs[i]))\n",
    "\n",
    "for i in range(4):\n",
    "    plot_decision_regions(X_test, Y_test, models[i], ax=ax[i])\n",
    "\n",
    "plt.show()"
   ],
   "metadata": {
    "collapsed": false,
    "pycharm": {
     "name": "#%%\n"
    }
   }
  },
  {
   "cell_type": "code",
   "execution_count": null,
   "outputs": [],
   "source": [
    "fig, gs = plt.figure(figsize=(19,4)), gridspec.GridSpec(1, 4)\n",
    "\n",
    "ax = []\n",
    "for i in range(4):\n",
    "    ax.append(fig.add_subplot(gs[i]))\n",
    "\n",
    "for i in range(4):\n",
    "    plot_decision_regions(X_test, Y_test, models[12*i], ax=ax[i])\n",
    "\n",
    "plt.show()"
   ],
   "metadata": {
    "collapsed": false,
    "pycharm": {
     "name": "#%%\n"
    }
   }
  },
  {
   "cell_type": "markdown",
   "source": [
    "## Метод окна Парзена"
   ],
   "metadata": {
    "collapsed": false
   }
  },
  {
   "cell_type": "code",
   "execution_count": null,
   "outputs": [],
   "source": [
    "def K(distance, h=0.05):\n",
    "    ret = np.array(distance)/h\n",
    "    return (1 - ret**2) * (np.abs(ret) <= 1)"
   ],
   "metadata": {
    "collapsed": false,
    "pycharm": {
     "name": "#%%\n"
    }
   }
  },
  {
   "cell_type": "code",
   "execution_count": null,
   "outputs": [],
   "source": [
    "fig, gs = plt.figure(figsize=(19,4)), gridspec.GridSpec(1, 4)\n",
    "\n",
    "ax = []\n",
    "for i, h in enumerate([0.05, 0.1, 0.2, 0.5]):\n",
    "    model = KNeighborsClassifier(n_neighbors=len(X_train),\n",
    "                                 weights=lambda x: K(x, h=h))\n",
    "    model.fit(X_train, Y_train)\n",
    "    ax.append(fig.add_subplot(gs[i]))\n",
    "    plot_decision_regions(X_test, Y_test, model, ax=ax[i])\n",
    "\n",
    "plt.show()"
   ],
   "metadata": {
    "collapsed": false,
    "pycharm": {
     "name": "#%%\n"
    }
   }
  },
  {
   "cell_type": "code",
   "execution_count": null,
   "outputs": [],
   "source": [
    "fig, gs = plt.figure(figsize=(19,4)), gridspec.GridSpec(1, 4)\n",
    "\n",
    "ax = []\n",
    "for i, h in enumerate([0.05, 0.2, 1.0, 5.0]):\n",
    "    model = KNeighborsClassifier(n_neighbors=len(X_train),\n",
    "                                 weights=lambda x: K(x, h=h))\n",
    "    model.fit(X_train, Y_train)\n",
    "    ax.append(fig.add_subplot(gs[i]))\n",
    "    plot_decision_regions(X_test, Y_test, model, ax=ax[i])\n",
    "\n",
    "plt.show()"
   ],
   "metadata": {
    "collapsed": false,
    "pycharm": {
     "name": "#%%\n"
    }
   }
  }
 ]
}